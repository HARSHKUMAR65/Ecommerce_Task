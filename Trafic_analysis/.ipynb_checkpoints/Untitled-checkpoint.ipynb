{
 "cells": [
  {
   "cell_type": "code",
   "execution_count": 29,
   "id": "ff28c980",
   "metadata": {},
   "outputs": [],
   "source": [
    "import pandas as pd \n",
    "import numpy as np \n",
    "import random\n",
    "from scipy.stats import ttest_ind\n",
    "import warnings\n",
    "warnings.filterwarnings('ignore')"
   ]
  },
  {
   "cell_type": "code",
   "execution_count": 2,
   "id": "100b0c09",
   "metadata": {},
   "outputs": [],
   "source": [
    "data = pd.read_excel(\"data.xlsx\")"
   ]
  },
  {
   "cell_type": "code",
   "execution_count": 19,
   "id": "9f0de082",
   "metadata": {},
   "outputs": [],
   "source": [
    "data['Date'] = pd.to_datetime(data['Date'])\n"
   ]
  },
  {
   "cell_type": "markdown",
   "id": "c8a53648",
   "metadata": {},
   "source": [
    " nulll_Hypothesis_(H0) = \"There is no significant difference in conversion rates before and after January 1, 2016.\"\n",
    " \n",
    "alternative_Hypothesis_(H1) == \"There is a significant difference in conversion rates before and after January 1, 2016.\""
   ]
  },
  {
   "cell_type": "code",
   "execution_count": 22,
   "id": "522fd5cf",
   "metadata": {},
   "outputs": [],
   "source": [
    "before_date = '2016-01-01'\n",
    "before_group = data[data['Date'] < before_date]\n",
    "after_group = data[data['Date'] >= before_date]"
   ]
  },
  {
   "cell_type": "code",
   "execution_count": 25,
   "id": "a0458f1f",
   "metadata": {},
   "outputs": [],
   "source": [
    "average_conversion_before = before_group['conversion_Rate'].mean()\n",
    "average_conversion_after = after_group['conversion_Rate'].mean()\n"
   ]
  },
  {
   "cell_type": "code",
   "execution_count": 30,
   "id": "8baabd6a",
   "metadata": {},
   "outputs": [],
   "source": [
    "t_statistic, p_value = ttest_ind(before_group['conversion_Rate'], after_group['conversion_Rate'])\n"
   ]
  },
  {
   "cell_type": "code",
   "execution_count": 31,
   "id": "42a3481c",
   "metadata": {},
   "outputs": [
    {
     "name": "stdout",
     "output_type": "stream",
     "text": [
      "Reject the null hypothesis. There is a significant difference in conversion rates.\n"
     ]
    }
   ],
   "source": [
    "significance_level = 0.05\n",
    "\n",
    "if p_value < significance_level:\n",
    "    print(\"Reject the null hypothesis. There is a significant difference in conversion rates.\")\n",
    "else:\n",
    "    print(\"Fail to reject the null hypothesis. There is no significant difference in conversion rates.\")\n"
   ]
  },
  {
   "cell_type": "code",
   "execution_count": null,
   "id": "67213ddd",
   "metadata": {},
   "outputs": [],
   "source": []
  }
 ],
 "metadata": {
  "kernelspec": {
   "display_name": "Python 3 (ipykernel)",
   "language": "python",
   "name": "python3"
  },
  "language_info": {
   "codemirror_mode": {
    "name": "ipython",
    "version": 3
   },
   "file_extension": ".py",
   "mimetype": "text/x-python",
   "name": "python",
   "nbconvert_exporter": "python",
   "pygments_lexer": "ipython3",
   "version": "3.11.4"
  }
 },
 "nbformat": 4,
 "nbformat_minor": 5
}
